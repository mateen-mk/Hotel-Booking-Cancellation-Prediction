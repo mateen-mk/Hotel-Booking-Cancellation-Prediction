{
 "cells": [
  {
   "cell_type": "markdown",
   "metadata": {},
   "source": [
    "# <p style = \"font-size : 42px; color : #000000 ; font-family : 'Oregon'; text-align : center; background-color : #dba514; border-radius: 5px 5px;\"><strong>Hotel Booking Cancellation Prediction</strong></p>"
   ]
  },
  {
   "cell_type": "markdown",
   "metadata": {},
   "source": [
    "<p align=\"center\">\n",
    "  <img style = \"border:5px solid #ffb037;\" src=\"https://5.imimg.com/data5/EF/GO/MY-17287433/hotel-bookings-500x500.jpg\" alt=\"Project Banner\" width=\"1000\"/>\n",
    "</p>"
   ]
  },
  {
   "cell_type": "markdown",
   "metadata": {},
   "source": [
    "## <p style = \"font-size : 25px; color : #ff0099; font-family : 'Comic Sans MS'; \"><strong>About Notebook</strong></p> "
   ]
  },
  {
   "cell_type": "markdown",
   "metadata": {},
   "source": [
    "<p style = \"font-size : 16px; color : #ff9900; font-family : 'Comic Sans MS';\">\n",
    "    \n",
    "</p> "
   ]
  },
  {
   "cell_type": "markdown",
   "metadata": {},
   "source": [
    "### <p style = \"font-size : 25px; color : #ff0099; font-family : 'Comic Sans MS'; \"><strong>About Data</strong></p> "
   ]
  },
  {
   "cell_type": "markdown",
   "metadata": {},
   "source": [
    "<p style = \"font-size : 16px; color : #ff9900; font-family : 'Comic Sans MS';\">\n",
    "    The data includes detailed information on hotel bookings, covering customer demographics, booking patterns, and reservation specifics.<br> \n",
    "    Key attributes include booking status, stay duration, guest count, booking channel, room assignment, and any special requests.<br> \n",
    "    It is suitable for analyzing booking trends, customer behaviors, and factors influencing cancellations and modifications.\n",
    "</p> "
   ]
  },
  {
   "cell_type": "markdown",
   "metadata": {},
   "source": [
    "## <p style = \"font-size : 25px; color : #ff0099; font-family : 'Comic Sans MS'; \"><strong>Data Collection</strong></p> "
   ]
  },
  {
   "cell_type": "markdown",
   "metadata": {},
   "source": [
    "<p style = \"font-size : 16px; color : #ff9900; font-family : 'Comic Sans MS';\">\n",
    "    The Hotel booking data is stored in mysql database we will fetch the data from the database\n",
    "</p> "
   ]
  },
  {
   "cell_type": "markdown",
   "metadata": {},
   "source": []
  }
 ],
 "metadata": {
  "language_info": {
   "name": "python"
  }
 },
 "nbformat": 4,
 "nbformat_minor": 2
}
